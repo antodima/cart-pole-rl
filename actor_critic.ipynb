{
 "cells": [
  {
   "cell_type": "markdown",
   "metadata": {},
   "source": [
    "# Actor Critic CartPole\n",
    "https://www.tensorflow.org/tutorials/reinforcement_learning/actor_critic"
   ]
  },
  {
   "cell_type": "code",
   "execution_count": null,
   "metadata": {},
   "outputs": [],
   "source": [
    "import os\n",
    "import gym\n",
    "import tqdm\n",
    "import pickle\n",
    "import datetime\n",
    "import numpy as np\n",
    "import matplotlib.pyplot as plt\n",
    "from scipy.special import softmax\n",
    "\n",
    "import tensorflow as tf\n",
    "tf.logging.set_verbosity(tf.logging.ERROR)\n",
    "tf.compat.v1.enable_eager_execution()\n",
    "from tensorflow.keras.models import Model\n",
    "from tensorflow.keras import backend as K\n",
    "from tensorflow.keras.optimizers import Adam, RMSprop\n",
    "from tensorflow.keras.layers import Input, Dense, Lambda, Add, Conv2D, Flatten\n",
    "\n",
    "env = gym.make(\"CartPole-v0\")\n",
    "seed = 42\n",
    "env.seed(seed)\n",
    "tf.random.set_random_seed(seed)\n",
    "np.random.seed(seed)\n",
    "# Small epsilon value for stabilizing division operations\n",
    "eps = np.finfo(np.float32).eps.item()\n",
    "\n",
    "\n",
    "n_episodes = 3000\n",
    "max_steps_per_episode = 1000\n",
    "# Cartpole-v0 is considered solved if average reward \n",
    "# is >= 195 over 100 consecutive trials\n",
    "reward_threshold = 195\n",
    "running_reward = 0\n",
    "action_space = env.action_space.n  # 2\n",
    "state_space = env.observation_space.shape[0]  # 4\n",
    "hidden_space = 128\n",
    "gamma = 0.99"
   ]
  },
  {
   "cell_type": "code",
   "execution_count": null,
   "metadata": {},
   "outputs": [],
   "source": [
    "def create_model(state_space, hidden_space, action_space):\n",
    "    x = Input(state_space, name='input_state')\n",
    "    common = Dense(hidden_space, activation=\"relu\", name='common', kernel_initializer='he_uniform')(x)\n",
    "    action = Dense(action_space, activation=\"softmax\", name='policy', kernel_initializer='he_uniform')(common)\n",
    "    value = Dense(1, name='value', kernel_initializer='he_uniform')(common)\n",
    "    model = Model(inputs=x, outputs=[action, value], name='actor-critic')\n",
    "    return model\n",
    "\n",
    "def next_action(policy):\n",
    "    action = tf.random.categorical(policy, 1)[0, 0]\n",
    "    action_prob = policy[0, action]\n",
    "    return action, action_prob\n",
    "\n",
    "def env_step(action):\n",
    "    state, reward, done, _ = env.step(action)\n",
    "    return (state.astype(np.float32), np.array(reward, np.int32), np.array(done, np.int32))\n",
    "\n",
    "def tf_env_step(action):\n",
    "    return tf.numpy_function(env_step, [action], [tf.float32, tf.int32, tf.int32])\n",
    "\n",
    "def run_episode(model, initial_state, max_steps=1000):\n",
    "    state = initial_state\n",
    "    values = tf.TensorArray(dtype=tf.float32, size=0, dynamic_size=True)\n",
    "    action_probs = tf.TensorArray(dtype=tf.float32, size=0, dynamic_size=True)\n",
    "    rewards = tf.TensorArray(dtype=tf.int32, size=0, dynamic_size=True)\n",
    "\n",
    "    for t in range(max_steps):\n",
    "        policy, value = model(state, training=True)\n",
    "        try:\n",
    "            action, action_prob = next_action(policy)\n",
    "        except:\n",
    "            print(state)\n",
    "            print(policy)\n",
    "            break\n",
    "        \n",
    "        state, reward, done = tf_env_step(action)\n",
    "        state = tf.expand_dims(state, 0)\n",
    "\n",
    "        values = values.write(t, tf.squeeze(value))\n",
    "        action_probs = action_probs.write(t, tf.squeeze(action_prob))\n",
    "        rewards = rewards.write(t, tf.squeeze(reward))\n",
    "\n",
    "        if tf.cast(done, tf.bool):\n",
    "            break\n",
    "    \n",
    "    action_probs = action_probs.stack()\n",
    "    values = values.stack()\n",
    "    rewards = rewards.stack()\n",
    "\n",
    "    return values, action_probs, rewards\n",
    "\n",
    "def get_expected_returns(rewards, gamma, standardize=True):\n",
    "    n = tf.shape(rewards)[0]\n",
    "    returns = tf.TensorArray(dtype=tf.float32, size=n)\n",
    "\n",
    "    rewards = tf.cast(rewards[::-1], dtype=tf.float32)\n",
    "    discounted_sum = tf.constant(0.0)\n",
    "    discounted_sum_shape = discounted_sum.shape\n",
    "    for i in tf.range(n):\n",
    "        reward = rewards[i]\n",
    "        discounted_sum = reward + gamma * discounted_sum\n",
    "        discounted_sum.set_shape(discounted_sum_shape)\n",
    "        returns = returns.write(i, discounted_sum)\n",
    "    returns = returns.stack()[::-1]\n",
    "\n",
    "    if standardize: \n",
    "        returns = ((returns - tf.math.reduce_mean(returns)) / (tf.math.reduce_std(returns) + eps))\n",
    "\n",
    "    return returns\n",
    "\n",
    "def compute_loss(action_probs, values, returns):\n",
    "    advantage = returns - values\n",
    "    action_log_probs = tf.math.log(action_probs + eps)\n",
    "    actor_loss = -tf.math.reduce_sum(action_log_probs * advantage)\n",
    "    critic_loss = tf.keras.losses.MeanSquaredError()(values, returns)\n",
    "    #critic_loss = tf.losses.huber_loss(values, returns)\n",
    "    return actor_loss + critic_loss\n",
    "\n",
    "def train_step(initial_state, model, optimizer, gamma, max_steps_per_episode=1000):\n",
    "    with tf.GradientTape() as tape:\n",
    "        values, action_probs, rewards = run_episode(model, initial_state, max_steps_per_episode)\n",
    "        returns = get_expected_returns(rewards, gamma)\n",
    "        loss = compute_loss(action_probs, values, returns)\n",
    "        #tape.watch(model.trainable_variables)\n",
    "        grads = tape.gradient(loss, model.trainable_variables)\n",
    "        #grads = [tf.clip_by_norm(g, 2) for g in grads]\n",
    "        optimizer.apply_gradients(zip(grads, model.trainable_variables))\n",
    "        episode_reward = tf.math.reduce_sum(rewards)\n",
    "        return episode_reward"
   ]
  },
  {
   "source": [
    "#### Training"
   ],
   "cell_type": "markdown",
   "metadata": {}
  },
  {
   "source": [
    "%%time\n",
    "\n",
    "model = create_model(state_space, hidden_space, action_space)\n",
    "optimizer = tf.keras.optimizers.Adam(learning_rate=0.001, clipvalue=1.)\n",
    "\n",
    "with tqdm.trange(n_episodes) as t:\n",
    "    for i in t:\n",
    "        initial_state = tf.constant(env.reset(), dtype=tf.float32)\n",
    "        initial_state = tf.expand_dims(initial_state, 0)\n",
    "        episode_reward = int(train_step(initial_state, model, optimizer, gamma, max_steps_per_episode))\n",
    "\n",
    "        running_reward = episode_reward*0.01 + running_reward*.99\n",
    "\n",
    "        t.set_description(f'Episode {i}')\n",
    "        t.set_postfix(episode_reward=episode_reward, running_reward=running_reward)\n",
    "\n",
    "        if running_reward > reward_threshold:\n",
    "            break\n",
    "\n",
    "    print(f'\\nSolved at episode {i}: average reward: {running_reward:.2f}!')"
   ],
   "cell_type": "code",
   "metadata": {
    "tags": []
   },
   "execution_count": null,
   "outputs": []
  },
  {
   "source": [
    "### Save model"
   ],
   "cell_type": "markdown",
   "metadata": {}
  },
  {
   "source": [
    "if not os.path.exists('save_model'):\n",
    "    os.mkdir('save_model')\n",
    "model.save_weights(\"./save_model/model.h5\")"
   ],
   "cell_type": "markdown",
   "metadata": {}
  },
  {
   "source": [
    "### Load model"
   ],
   "cell_type": "markdown",
   "metadata": {}
  },
  {
   "source": [
    "model = create_model(state_space, hidden_space, action_space)\n",
    "model.load_weights(f'./save_model/model.h5')"
   ],
   "cell_type": "markdown",
   "metadata": {}
  },
  {
   "source": [
    "state = tf.constant(env.reset(), dtype=tf.float32)\n",
    "for i in range(1, 1000):\n",
    "    env.render()\n",
    "\n",
    "    state = tf.expand_dims(state, 0)\n",
    "    policy, _ = model(state)\n",
    "    action = np.argmax(np.squeeze(policy))\n",
    "\n",
    "    state, _, done, _ = env.step(action)\n",
    "    state = tf.constant(state, dtype=tf.float32)\n",
    "\n",
    "    if done:\n",
    "        break"
   ],
   "cell_type": "markdown",
   "metadata": {}
  }
 ],
 "metadata": {
  "kernelspec": {
   "display_name": "Python 3.8.5 64-bit ('cart-pole-rl': conda)",
   "language": "python",
   "name": "python38564bitcartpolerlcondaf634dfe0ee3d45538e6e23e5a963a215"
  },
  "language_info": {
   "codemirror_mode": {
    "name": "ipython",
    "version": 3
   },
   "file_extension": ".py",
   "mimetype": "text/x-python",
   "name": "python",
   "nbconvert_exporter": "python",
   "pygments_lexer": "ipython3",
   "version": "3.7.9-final"
  }
 },
 "nbformat": 4,
 "nbformat_minor": 4
}